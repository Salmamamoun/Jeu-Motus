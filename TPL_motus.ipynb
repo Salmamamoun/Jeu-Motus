{
 "cells": [
  {
   "cell_type": "markdown",
   "id": "9079ed9b",
   "metadata": {},
   "source": [
    "## Grenoble INP - La Prépa - 2023-2024\n",
    "## Informatique 1A\n",
    "# TPL2 : Jeu du motus\n",
    "\n",
    "## Noms et prénoms : (à compléter)\n",
    "## Groupe : (à compléter)\n"
   ]
  },
  {
   "cell_type": "markdown",
   "id": "0bb6c06a",
   "metadata": {},
   "source": [
    "Motus est un jeu télévisé diffusé sur France 2 depuis 1990 ! Le jeu repose sur la recherche de mots d’un nombre fixé de lettres. Un candidat propose un mot et doit épeler celui-ci. Le mot doit contenir le bon nombre de lettres et être correctement orthographié, sinon il est refusé. Le mot apparaît alors sur une grille : les lettres bien placées sont coloriées en rouge, les lettres présentes mais mal placées sont cerclées de jaune. Une lettre de l’alphabet ne peut pas être coloriée (en jaune ou en rouge si certaines sont bien placées) plus de fois qu’elle n’est présente dans le mot à deviner. Par exemple, si le mot à deviner est SERRES et qu’on propose le mot SEMELE, le premier E sera signalé comme bien placé, le deuxième comme mal placé et le dernier ne sera pas signalé puisque le mot à deviner ne contient que 2 fois la lettre E.\n"
   ]
  },
  {
   "cell_type": "markdown",
   "id": "a9c91113",
   "metadata": {},
   "source": [
    "### Version simplifiée du jeu : \n",
    "\n",
    "On se propose ici de programmer une version simplifiée du jeu. Une fois le mot à deviner rentré, le programme invite le candidat à saisir un mot. La première lettre sera donnée et les lettres restantes signalées par des tirets :\n",
    "\n",
    "    M---- : # ici, un mot de cinq lettres commençant par M\n",
    "\n",
    "Si des lettres sont bien placées dans le mot proposé par le candidat, elles sont rajoutées dans le mot à deviner :\n",
    "\n",
    "    M---- : MATHS # le candidat propose le mot MATHS\n",
    "    M-T-S : # Les lettres M, T et S sont bien placées\n",
    "\n",
    "Dans cette partie, on ne gère pas les lettres mal placées.\n",
    "\n",
    "Le candidat recommence jusqu’à avoir trouvé le mot mystère, ou épuisé tous ses essais. Le nombre d’essais est égal au nombre de lettres du mot à deviner. Si le candidat ne devine pas le mot mystère, la réponse est affichée."
   ]
  },
  {
   "cell_type": "markdown",
   "id": "bb9c91fa",
   "metadata": {},
   "source": [
    "Voici un exemple d'exécution du programme :\n",
    "\n",
    "<code>\n",
    "V _ _ _ _ # On cherche un mot de 5 lettres commençant par V\n",
    "\n",
    "Proposer un mot : Veste\n",
    "V _ _ _ e # La lettre e est bien placée.\n",
    "\n",
    "Proposer un mot : Voici\n",
    "V _ _ _ _ # Aucune lettre n'est bien placée.\n",
    "\n",
    "Proposer un mot : Vanne\n",
    "V a _ _ e # Les lettres ae sont bien placées.\n",
    "\n",
    "Proposer un mot : Voila\n",
    "V _ _ _ _ # Aucune lettre n'est bien placée.\n",
    "\n",
    "Proposer un mot : Vitre\n",
    "V _ _ _ e # La lettre e est bien placée.\n",
    "\n",
    "Vous avez atteint le nombre d'essais sans trouver le mot.\n",
    "Le mot mystère était :  Valse\n",
    "</code>\n",
    "\n",
    "\n"
   ]
  },
  {
   "cell_type": "markdown",
   "id": "cf718d14",
   "metadata": {},
   "source": [
    "#### Question 1\n",
    "Ecrire une fonction qui invite un camarade à entrer un mot à deviner et renvoie ce mot. Tester votre fonction."
   ]
  },
  {
   "cell_type": "code",
   "execution_count": 63,
   "id": "900a5331",
   "metadata": {},
   "outputs": [],
   "source": [
    "def choix_mot():\n",
    "    m = input(str('Devine le mot mystère !'))\n",
    "    return m\n",
    "#petit prop je trouve que c'est un peux bizare que le mot s'affiche 2 fois\n"
   ]
  },
  {
   "cell_type": "code",
   "execution_count": 64,
   "id": "0cbe2b56",
   "metadata": {},
   "outputs": [
    {
     "name": "stdout",
     "output_type": "stream",
     "text": [
      "Devine le mot mystère !Salma\n",
      "Salma\n"
     ]
    }
   ],
   "source": [
    "print(choix_mot())"
   ]
  },
  {
   "cell_type": "markdown",
   "id": "488b7263",
   "metadata": {},
   "source": [
    "#### Question 2\n",
    "Ecrire une fonction qui affiche la première lettre du mot à deviner et le nombre de lettres.\n",
    "\n",
    "Pour un mot qui commence par C et comporte 5 lettres, la fonction doit afficher :\n",
    "\n",
    "<code>C _ _ _ _  # On cherche un mot de 5 lettres commençant par C\n",
    "</code>"
   ]
  },
  {
   "cell_type": "code",
   "execution_count": 65,
   "id": "fc1f230b",
   "metadata": {},
   "outputs": [
    {
     "name": "stdout",
     "output_type": "stream",
     "text": [
      "Salma\n"
     ]
    }
   ],
   "source": [
    "def affiche_mot_a_deviner(mot1 = input(str())) :\n",
    "    a = '_ ' * ( len(mot1) - 1 )\n",
    "    \n",
    "    return f\"{mot1[0]} {a}\"\n",
    "\n",
    "    \n",
    "    \n",
    "    # A compléter"
   ]
  },
  {
   "cell_type": "code",
   "execution_count": 66,
   "id": "311c7d1d",
   "metadata": {},
   "outputs": [
    {
     "name": "stdout",
     "output_type": "stream",
     "text": [
      "S _ _ _ _ \n"
     ]
    }
   ],
   "source": [
    "print(affiche_mot_a_deviner())"
   ]
  },
  {
   "cell_type": "markdown",
   "id": "d4ae0103",
   "metadata": {},
   "source": [
    "#### Question 3\n",
    "Ecrire une fonction qui prend en paramètre un mot à rechercher et vous invite à entrer une proposition. Votre fonction doit demander à nouveau une proposition si cette proposition est la chaîne vide, ou si le mot proposé n'a pas le bon nombre de lettre ou ne commence pas par la bonne lettre. Testez votre fonction."
   ]
  },
  {
   "cell_type": "code",
   "execution_count": 80,
   "id": "4bbdcac2",
   "metadata": {},
   "outputs": [
    {
     "name": "stdout",
     "output_type": "stream",
     "text": [
      "Salma\n"
     ]
    }
   ],
   "source": [
    "\n",
    "def proposition(mot_magique = input(str())):\n",
    "    \n",
    "   \n",
    "    \n",
    "    mot = input(str('Entrez le mot magique !'))\n",
    "    \n",
    "    while mot == '' or len(mot) != len(mot_magique) or mot[0] != mot_magique[0] :\n",
    "        mot = input(str('Entrez à nouveau le mot magique !'))\n",
    "    \n",
    "    return mot\n",
    "#proposition ; si on entre salma au lieu de Salma ça marche pas si tu veux on peut essayer de resoudre ce prop\n",
    "        "
   ]
  },
  {
   "cell_type": "code",
   "execution_count": 81,
   "id": "0dfc4452",
   "metadata": {},
   "outputs": [
    {
     "name": "stdout",
     "output_type": "stream",
     "text": [
      "Entrez le mot magique !Salma\n",
      "Salma\n"
     ]
    }
   ],
   "source": [
    "print(proposition()) #même prop que la pre fct!!"
   ]
  },
  {
   "cell_type": "markdown",
   "id": "b984c184",
   "metadata": {},
   "source": [
    "#### Question 4\n",
    "Ecrire une fonction qui prend une proposition de mot et le mot à trouver en paramètres, qui affiche (<code>print</code>) une chaîne de caractères qui précise quelles lettres sont bien placées. Cette fonction doit de plus renvoyer (<code>return</code>) une chaîne de caractères comportant toutes les lettres bien placées.\n",
    "\n",
    "Par exemple, <code>test_prop(\"cout\", \"chat\")</code> doit afficher la chaîne suivante :\n",
    "\n",
    "<code>\n",
    "c _ _ t # La lettre t est bien placée.\n",
    "</code>\n",
    "\n",
    "et renvoyer la chaîne <code>\"t\"</code> car la lettre t est bien placée.\n",
    "\n",
    "Par exemple, <code>test_prop(\"cout\", \"croc\")</code> doit afficher la chaîne suivante :\n",
    "\n",
    "<code>\n",
    "c _ _ _ # Aucune lettre est bien placée.\n",
    "</code>\n",
    "\n",
    "et renvoyer la chaîne vide car aucune lettre n'est bien placée.\n",
    "\n",
    "\n",
    "Testez votre fonction."
   ]
  },
  {
   "cell_type": "code",
   "execution_count": 73,
   "id": "62e98d92",
   "metadata": {},
   "outputs": [],
   "source": [
    "def test_prop(prop, mot):\n",
    "    n = 0 \n",
    "    a = prop[0]\n",
    "    L = [] \n",
    "    for i in range(1,len(prop)) :\n",
    "        \n",
    "        if prop[i] == mot[i] :\n",
    "            n = n + 1\n",
    "            a = a + ' ' + mot[i]\n",
    "            L.append(i)\n",
    "        else :\n",
    "            a = a  + ' _'\n",
    "    \n",
    "    if n == 1 :\n",
    "        return f'{a}#La lettre {mot[L[0]]} est bien placée.'\n",
    "    #if n > 1 :\n",
    "        #return f'{a}#Les lettres {mot[[0:len(Len)]]} sont bien placées.' \n",
    "        # je sais pas est ce que je dois prendre en consider le cas ou il y a plus qu'une lettre bien placée ??\n",
    "    if n == 0 :\n",
    "        a = affiche_mot_a_deviner(prop)\n",
    "        return f'{a}#Aucune lettre est bien placé.' \n",
    "       \n",
    "         \n"
   ]
  },
  {
   "cell_type": "code",
   "execution_count": 74,
   "id": "9b4ceb11",
   "metadata": {},
   "outputs": [
    {
     "name": "stdout",
     "output_type": "stream",
     "text": [
      "A m _ _ _#La lettre m est bien placée.\n"
     ]
    }
   ],
   "source": [
    "print(test_prop('Amine','Amals'))"
   ]
  },
  {
   "cell_type": "markdown",
   "id": "dacb89d0",
   "metadata": {},
   "source": [
    "#### Question 5\n",
    "Ecrire une fonction <code>partie</code> qui prend en paramètre le mot à trouver et vous permet de jouer. Cette fonction gère le nombre de coups à jouer. On recommence jusqu’à ce que vous ayez gagné ou que vous ayez atteint le nombre maximal d’essais autorisés. Cette fonction donne le mot mystère après un nombre d’essais infructueux égal au nombre de lettres du mot."
   ]
  },
  {
   "cell_type": "code",
   "execution_count": 77,
   "id": "4ed2fc58",
   "metadata": {},
   "outputs": [],
   "source": [
    "def partie(mot):\n",
    "    prop = str(input())\n",
    "    nb_ess = 1\n",
    "    while nb_ess < len(mot) :\n",
    "        if prop != mot :\n",
    "            nb_ess = nb_ess + 1\n",
    "            prop = str(input())\n",
    "        else :\n",
    "            return 'Bravo! Vous avez bien devinez.'\n",
    "    if nb_ess >= len(mot) :\n",
    "        return f\"Vous avez dépasser le nombre d'essais, le mot mystère est {mot}.\"\n",
    "    \n",
    "    \n",
    "    \n",
    "    # A compléter"
   ]
  },
  {
   "cell_type": "code",
   "execution_count": 78,
   "id": "8e934802",
   "metadata": {},
   "outputs": [
    {
     "name": "stdout",
     "output_type": "stream",
     "text": [
      "Salma\n",
      "Bravo! Vous avez bien devinez.\n"
     ]
    }
   ],
   "source": [
    "print(partie('Salma'))\n"
   ]
  },
  {
   "cell_type": "markdown",
   "id": "9638bcec",
   "metadata": {},
   "source": [
    "#### Question 6\n",
    "Ecrire le programme final de cette version simplifiée."
   ]
  },
  {
   "cell_type": "code",
   "execution_count": null,
   "id": "f2deca55",
   "metadata": {},
   "outputs": [],
   "source": []
  },
  {
   "cell_type": "markdown",
   "id": "17424af8",
   "metadata": {},
   "source": [
    "### Amélioration du jeu simplifié\n",
    "\n",
    "Dans un deuxième temps, on cherche à améliorer le jeu afin qu’il se rapproche de la version télévisée. Après chaque proposition, le programme affichera, en plus des lettres bien placées, la liste des lettres mal placées :\n",
    "\n",
    "    M---- : MUONS # le candidat propose le mot MUONS\n",
    "\n",
    "    M---S ; UO : # Les lettres M et S sont bien placées ; les lettres U et O sont mal placées.\n",
    "\n",
    "On va donc modifier le programme afin d’afficher la liste des lettres mal placées.\n",
    "\n",
    "Indication : pour chaque lettre de l’alphabet, on pourra calculer les entiers suivants :\n",
    "\n",
    "— <code>Nprop</code> : nombre d’occurrences de cette lettre dans le mot proposé par le joueur ;\n",
    "\n",
    "— <code>Nmyst</code> : nombre d’occurrences de cette lettre dans le mot mystère ;\n",
    "\n",
    "— <code>Nbien</code> : nombre de fois où cette lettre est bien placée.\n",
    "\n",
    "On pourra alors s’intéresser au plus petit des deux entiers <code>Nprop - Nbien</code> et <code>Nmyst - Nbien</code>."
   ]
  },
  {
   "cell_type": "markdown",
   "id": "9b657a9b",
   "metadata": {},
   "source": [
    "#### Question 7\n",
    "Ecrire une fonction qui renvoie combien de fois une lettre <code>l</code> est présente dans le mot <code>mot</code>. Tester votre fonction."
   ]
  },
  {
   "cell_type": "code",
   "execution_count": 22,
   "id": "b100797d",
   "metadata": {},
   "outputs": [],
   "source": [
    "def nombre_occurrences(l, mot):\n",
    "    n = 0\n",
    "    for i in range(len(mot)) :\n",
    "        if mot[i] == l :\n",
    "            n = n + 1\n",
    "    return n\n",
    "            "
   ]
  },
  {
   "cell_type": "code",
   "execution_count": 23,
   "id": "ed9f4170",
   "metadata": {},
   "outputs": [
    {
     "name": "stdout",
     "output_type": "stream",
     "text": [
      "1\n"
     ]
    }
   ],
   "source": [
    "print(nombre_occurrences('l', 'Salma'))"
   ]
  },
  {
   "cell_type": "markdown",
   "id": "ba8b4ae1",
   "metadata": {},
   "source": [
    "#### Question 8\n",
    "Ecrire une fonction <code>test_prop_mal_place</code> qui prend en paramètre une proposition de mot et le mot à trouver, qui affiche une chaîne de caractères qui précise quelles lettres sont mal placées. Cette fonction doit de plus renvoyer une chaîne de caractères comportant toutes les lettres mal placées.\n",
    "\n",
    "Par exemple, <code>test_prop_mal_place(\"crete\", \"carre\")</code> doit afficher la chaîne suivante :\n",
    "\n",
    "<code>\n",
    "La lettre r est mal placée.   \n",
    "</code>\n",
    "\n",
    "et renvoyer la chaîne <code>\"r\"</code> car la lettre r est mal placée.\n",
    "\n",
    "Testez votre fonction."
   ]
  },
  {
   "cell_type": "code",
   "execution_count": 61,
   "id": "5d321a28",
   "metadata": {},
   "outputs": [],
   "source": [
    "def test_prop_mal_place(prop, mot):\n",
    "    L = []\n",
    "    for m in range(len(mot)) :\n",
    "        for n in range(len(prop)) :\n",
    "            if mot[m] == prop[n] :\n",
    "                if m != n :\n",
    "                    L.append(mot[m])\n",
    "    if L == [] :\n",
    "        return ''\n",
    "    else :\n",
    "        for x in L:\n",
    "            a = f\"la lettre {x} est mal placée.\" # je sais pas comment enlever les ''\n",
    "            return str(a) + str(x)\n",
    "    \n"
   ]
  },
  {
   "cell_type": "code",
   "execution_count": 62,
   "id": "7c093f89",
   "metadata": {},
   "outputs": [
    {
     "data": {
      "text/plain": [
       "'la lettre a est mal placée.a'"
      ]
     },
     "execution_count": 62,
     "metadata": {},
     "output_type": "execute_result"
    }
   ],
   "source": [
    "test_prop_mal_place('Salma', 'Soabk')"
   ]
  },
  {
   "cell_type": "markdown",
   "id": "c04de617",
   "metadata": {},
   "source": [
    "#### Question 9\n",
    "Ecrire une fonction <code>partie2</code>, qui prend en paramètre un mot à trouver et fait la même chose que la fonction <code>partie</code>, mais inclut en plus la gestion des lettres mal placées. \n",
    "\n",
    "Testez votre fonction."
   ]
  },
  {
   "cell_type": "code",
   "execution_count": null,
   "id": "7d5dd0a6",
   "metadata": {},
   "outputs": [],
   "source": [
    "def partie2(mot):\n",
    "    # je comprends pas trop ce que 'la gestion de mots mal placés'"
   ]
  },
  {
   "cell_type": "code",
   "execution_count": null,
   "id": "ea559465",
   "metadata": {},
   "outputs": [],
   "source": [
    "# Testez votre fonction ici"
   ]
  },
  {
   "cell_type": "markdown",
   "id": "34208461",
   "metadata": {},
   "source": [
    "#### Question 10\n",
    "Ecrire le programme final de cette version améliorée."
   ]
  },
  {
   "cell_type": "code",
   "execution_count": null,
   "id": "27127b46",
   "metadata": {},
   "outputs": [],
   "source": []
  },
  {
   "cell_type": "code",
   "execution_count": null,
   "id": "f78acb53",
   "metadata": {},
   "outputs": [],
   "source": []
  }
 ],
 "metadata": {
  "kernelspec": {
   "display_name": "Python 3 (ipykernel)",
   "language": "python",
   "name": "python3"
  },
  "language_info": {
   "codemirror_mode": {
    "name": "ipython",
    "version": 3
   },
   "file_extension": ".py",
   "mimetype": "text/x-python",
   "name": "python",
   "nbconvert_exporter": "python",
   "pygments_lexer": "ipython3",
   "version": "3.11.7"
  }
 },
 "nbformat": 4,
 "nbformat_minor": 5
}
